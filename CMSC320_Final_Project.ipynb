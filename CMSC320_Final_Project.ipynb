{
  "nbformat": 4,
  "nbformat_minor": 0,
  "metadata": {
    "colab": {
      "name": "CMSC320 Final Project.ipynb",
      "provenance": [],
      "collapsed_sections": []
    },
    "kernelspec": {
      "name": "python3",
      "display_name": "Python 3"
    },
    "language_info": {
      "name": "python"
    }
  },
  "cells": [
    {
      "cell_type": "markdown",
      "metadata": {
        "id": "wqG360osV2D0"
      },
      "source": [
        "CMSC 320 Final Tutorial\n",
        "\n",
        "> Longrun Ni\n",
        "\n",
        "> Nirel Gershwind\n",
        "\n",
        "\n"
      ]
    },
    {
      "cell_type": "markdown",
      "source": [
        "Hello! To properly introduce our presentation/tutorial, we want to briefly explain the objective of our research and motivation. In this project, we are using a dataset obtained from Kaggle regarding different fields' median salaries for men and women. We are trying to explore the difference between the average salary for men and women and the ratio of female workers in different fields. We want to see if there is truly a gender wage gap. Does the proportion of female workers in an industry decrease as that industry's average wage increases? Does the difference between men and women's salary increase as an industry's average salary goes up? These are the main points we are exploring and they are crucial factors at a societal level. We're observing the role that genders play the workplace and drawing conclusions about disadvantages among genders and within industries. "
      ],
      "metadata": {
        "id": "Is5Mxl1QYmEi"
      }
    },
    {
      "cell_type": "markdown",
      "source": [
        "In terms of Data Science, this dataset and exploration we are doing is also very relevant that by doing analysis on this data set, we learn how to organize data, understand the data, and how to use the data to gain a deep understanding of the phenomenon we observed. By following us step by step for our analysis, you will learn a lot about data science, data manipulation, machine learning and more!"
      ],
      "metadata": {
        "id": "ZTZIKpTOs_J_"
      }
    },
    {
      "cell_type": "markdown",
      "metadata": {
        "id": "OCB-CmQhV65-"
      },
      "source": [
        "**Step 1 -  data curation, parsing, and management**"
      ]
    },
    {
      "cell_type": "markdown",
      "metadata": {
        "id": "7Qez3AadgE_O"
      },
      "source": [
        "\n",
        "\n",
        "> The first step is to import all of the python libraries that we need, such as pandas, numpy, seaborn, matplotlib, and sklearn\n",
        "\n"
      ]
    },
    {
      "cell_type": "code",
      "metadata": {
        "id": "CzTs4z4ZXhEc"
      },
      "source": [
        "import pandas as pd \n",
        "import seaborn as sns \n",
        "import numpy as np\n",
        "import matplotlib \n",
        "import sqlite3 \n",
        "import matplotlib.pyplot as plt \n",
        "from sklearn.linear_model import LinearRegression "
      ],
      "execution_count": 54,
      "outputs": []
    },
    {
      "cell_type": "markdown",
      "metadata": {
        "id": "BVoKfpwrY5qs"
      },
      "source": [
        "\n",
        "> We first import the data that we retrieved as a CSV file.\n",
        "\n",
        "> Then, we can use pandas to organize this data into a data frame.\n",
        "\n",
        "> We use pd.read_csv(FILENAME) to read the file and store it in the form of a data frame.\n",
        "\n",
        "> A dataframe is a data table that has rows and columns. Each entry has its own row and different properties that correspond to the column names\n",
        "\n",
        "> Want to learn more about Pandas? -> https://pandas.pydata.org/pandas-docs/stable/getting_started/tutorials.html\n"
      ]
    },
    {
      "cell_type": "code",
      "metadata": {
        "colab": {
          "base_uri": "https://localhost:8080/",
          "height": 206
        },
        "id": "0i_9jAK5gWHi",
        "outputId": "74e7c4b4-16e3-427a-f91e-1817aa78895f"
      },
      "source": [
        "data = pd.read_csv(\"sample_data/inc_occ_gender.csv\")\n",
        "data.head()"
      ],
      "execution_count": 8,
      "outputs": [
        {
          "output_type": "execute_result",
          "data": {
            "text/html": [
              "<div>\n",
              "<style scoped>\n",
              "    .dataframe tbody tr th:only-of-type {\n",
              "        vertical-align: middle;\n",
              "    }\n",
              "\n",
              "    .dataframe tbody tr th {\n",
              "        vertical-align: top;\n",
              "    }\n",
              "\n",
              "    .dataframe thead th {\n",
              "        text-align: right;\n",
              "    }\n",
              "</style>\n",
              "<table border=\"1\" class=\"dataframe\">\n",
              "  <thead>\n",
              "    <tr style=\"text-align: right;\">\n",
              "      <th></th>\n",
              "      <th>Occupation</th>\n",
              "      <th>All_workers</th>\n",
              "      <th>All_weekly</th>\n",
              "      <th>M_workers</th>\n",
              "      <th>M_weekly</th>\n",
              "      <th>F_workers</th>\n",
              "      <th>F_weekly</th>\n",
              "    </tr>\n",
              "  </thead>\n",
              "  <tbody>\n",
              "    <tr>\n",
              "      <th>0</th>\n",
              "      <td>ALL OCCUPATIONS</td>\n",
              "      <td>109080</td>\n",
              "      <td>809</td>\n",
              "      <td>60746</td>\n",
              "      <td>895</td>\n",
              "      <td>48334</td>\n",
              "      <td>726</td>\n",
              "    </tr>\n",
              "    <tr>\n",
              "      <th>1</th>\n",
              "      <td>MANAGEMENT</td>\n",
              "      <td>12480</td>\n",
              "      <td>1351</td>\n",
              "      <td>7332</td>\n",
              "      <td>1486</td>\n",
              "      <td>5147</td>\n",
              "      <td>1139</td>\n",
              "    </tr>\n",
              "    <tr>\n",
              "      <th>2</th>\n",
              "      <td>Chief executives</td>\n",
              "      <td>1046</td>\n",
              "      <td>2041</td>\n",
              "      <td>763</td>\n",
              "      <td>2251</td>\n",
              "      <td>283</td>\n",
              "      <td>1836</td>\n",
              "    </tr>\n",
              "    <tr>\n",
              "      <th>3</th>\n",
              "      <td>General and operations managers</td>\n",
              "      <td>823</td>\n",
              "      <td>1260</td>\n",
              "      <td>621</td>\n",
              "      <td>1347</td>\n",
              "      <td>202</td>\n",
              "      <td>1002</td>\n",
              "    </tr>\n",
              "    <tr>\n",
              "      <th>4</th>\n",
              "      <td>Legislators</td>\n",
              "      <td>8</td>\n",
              "      <td>Na</td>\n",
              "      <td>5</td>\n",
              "      <td>Na</td>\n",
              "      <td>4</td>\n",
              "      <td>Na</td>\n",
              "    </tr>\n",
              "  </tbody>\n",
              "</table>\n",
              "</div>"
            ],
            "text/plain": [
              "                        Occupation  All_workers  ... F_workers  F_weekly\n",
              "0                  ALL OCCUPATIONS       109080  ...     48334       726\n",
              "1                       MANAGEMENT        12480  ...      5147      1139\n",
              "2                 Chief executives         1046  ...       283      1836\n",
              "3  General and operations managers          823  ...       202      1002\n",
              "4                      Legislators            8  ...         4        Na\n",
              "\n",
              "[5 rows x 7 columns]"
            ]
          },
          "metadata": {},
          "execution_count": 8
        }
      ]
    },
    {
      "cell_type": "markdown",
      "source": [
        "Here, we filter out any rows where the cell in the All_weekly field is 'Na', so that we're only looking at data rows with valid cells. "
      ],
      "metadata": {
        "id": "ZICTEROWmus5"
      }
    },
    {
      "cell_type": "code",
      "metadata": {
        "colab": {
          "base_uri": "https://localhost:8080/",
          "height": 206
        },
        "id": "7N3K1xuyDIMO",
        "outputId": "dd9f60a7-5f71-4126-91ca-4763b43ca456"
      },
      "source": [
        "data= data[data['All_weekly'] != \"Na\"]\n",
        "data.head(5)"
      ],
      "execution_count": 9,
      "outputs": [
        {
          "output_type": "execute_result",
          "data": {
            "text/html": [
              "<div>\n",
              "<style scoped>\n",
              "    .dataframe tbody tr th:only-of-type {\n",
              "        vertical-align: middle;\n",
              "    }\n",
              "\n",
              "    .dataframe tbody tr th {\n",
              "        vertical-align: top;\n",
              "    }\n",
              "\n",
              "    .dataframe thead th {\n",
              "        text-align: right;\n",
              "    }\n",
              "</style>\n",
              "<table border=\"1\" class=\"dataframe\">\n",
              "  <thead>\n",
              "    <tr style=\"text-align: right;\">\n",
              "      <th></th>\n",
              "      <th>Occupation</th>\n",
              "      <th>All_workers</th>\n",
              "      <th>All_weekly</th>\n",
              "      <th>M_workers</th>\n",
              "      <th>M_weekly</th>\n",
              "      <th>F_workers</th>\n",
              "      <th>F_weekly</th>\n",
              "    </tr>\n",
              "  </thead>\n",
              "  <tbody>\n",
              "    <tr>\n",
              "      <th>0</th>\n",
              "      <td>ALL OCCUPATIONS</td>\n",
              "      <td>109080</td>\n",
              "      <td>809</td>\n",
              "      <td>60746</td>\n",
              "      <td>895</td>\n",
              "      <td>48334</td>\n",
              "      <td>726</td>\n",
              "    </tr>\n",
              "    <tr>\n",
              "      <th>1</th>\n",
              "      <td>MANAGEMENT</td>\n",
              "      <td>12480</td>\n",
              "      <td>1351</td>\n",
              "      <td>7332</td>\n",
              "      <td>1486</td>\n",
              "      <td>5147</td>\n",
              "      <td>1139</td>\n",
              "    </tr>\n",
              "    <tr>\n",
              "      <th>2</th>\n",
              "      <td>Chief executives</td>\n",
              "      <td>1046</td>\n",
              "      <td>2041</td>\n",
              "      <td>763</td>\n",
              "      <td>2251</td>\n",
              "      <td>283</td>\n",
              "      <td>1836</td>\n",
              "    </tr>\n",
              "    <tr>\n",
              "      <th>3</th>\n",
              "      <td>General and operations managers</td>\n",
              "      <td>823</td>\n",
              "      <td>1260</td>\n",
              "      <td>621</td>\n",
              "      <td>1347</td>\n",
              "      <td>202</td>\n",
              "      <td>1002</td>\n",
              "    </tr>\n",
              "    <tr>\n",
              "      <th>5</th>\n",
              "      <td>Advertising and promotions managers</td>\n",
              "      <td>55</td>\n",
              "      <td>1050</td>\n",
              "      <td>29</td>\n",
              "      <td>Na</td>\n",
              "      <td>26</td>\n",
              "      <td>Na</td>\n",
              "    </tr>\n",
              "  </tbody>\n",
              "</table>\n",
              "</div>"
            ],
            "text/plain": [
              "                            Occupation  All_workers  ... F_workers  F_weekly\n",
              "0                      ALL OCCUPATIONS       109080  ...     48334       726\n",
              "1                           MANAGEMENT        12480  ...      5147      1139\n",
              "2                     Chief executives         1046  ...       283      1836\n",
              "3      General and operations managers          823  ...       202      1002\n",
              "5  Advertising and promotions managers           55  ...        26        Na\n",
              "\n",
              "[5 rows x 7 columns]"
            ]
          },
          "metadata": {},
          "execution_count": 9
        }
      ]
    },
    {
      "cell_type": "code",
      "metadata": {
        "colab": {
          "base_uri": "https://localhost:8080/",
          "height": 206
        },
        "id": "NXbHFNWJA8zo",
        "outputId": "d38bde53-3ac6-4d08-f25f-5801f1e628df"
      },
      "source": [
        "# intialize salaries for each gender and job types to 0\n",
        "Male_worker_salary = 0\n",
        "Female_worker_salary = 0;\n",
        "number_of_job_types = 0;\n",
        "\n",
        "# clarify column names in data frame\n",
        "data = data.rename(columns={\"All_workers\": \"Total Workers\", \"All_weekly\": \"Average Weekly Salary\"})\n",
        "data = data.rename(columns={\"M_workers\": \"Male Workers\", \"F_workers\": \"Female Workers\"})\n",
        "data = data.rename(columns={\"M_weekly\": \"Average Male Weekly Salary\", \"F_weekly\": \"Average Female Weekly Salary\"})\n",
        "\n",
        "# convert salary and number of workers to integers\n",
        "data['Average Weekly Salary'] = data['Average Weekly Salary'].astype(int)\n",
        "data['Male Workers'] = data['Male Workers'].astype(int)\n",
        "\n",
        "data = data.drop(0)\n",
        "\n",
        "# iterate through data to cast salaries to integers,\n",
        "# calculate sums for male and female salaries,\n",
        "# and count number of job types\n",
        "for i, j in data.iterrows():\n",
        "  if j['Average Male Weekly Salary'] != \"Na\" and j['Average Female Weekly Salary'] != \"Na\":\n",
        "    j['Average Male Weekly Salary'] = int(j['Average Male Weekly Salary'])\n",
        "    j['Average Female Weekly Salary'] = int(j['Average Female Weekly Salary'])\n",
        "    Male_worker_salary += j['Average Male Weekly Salary']\n",
        "    Female_worker_salary += j['Average Female Weekly Salary']\n",
        "    number_of_job_types += 1\n",
        "\n",
        "\n",
        "\n",
        "data.head()"
      ],
      "execution_count": 10,
      "outputs": [
        {
          "output_type": "execute_result",
          "data": {
            "text/html": [
              "<div>\n",
              "<style scoped>\n",
              "    .dataframe tbody tr th:only-of-type {\n",
              "        vertical-align: middle;\n",
              "    }\n",
              "\n",
              "    .dataframe tbody tr th {\n",
              "        vertical-align: top;\n",
              "    }\n",
              "\n",
              "    .dataframe thead th {\n",
              "        text-align: right;\n",
              "    }\n",
              "</style>\n",
              "<table border=\"1\" class=\"dataframe\">\n",
              "  <thead>\n",
              "    <tr style=\"text-align: right;\">\n",
              "      <th></th>\n",
              "      <th>Occupation</th>\n",
              "      <th>Total Workers</th>\n",
              "      <th>Average Weekly Salary</th>\n",
              "      <th>Male Workers</th>\n",
              "      <th>Average Male Weekly Salary</th>\n",
              "      <th>Female Workers</th>\n",
              "      <th>Average Female Weekly Salary</th>\n",
              "    </tr>\n",
              "  </thead>\n",
              "  <tbody>\n",
              "    <tr>\n",
              "      <th>1</th>\n",
              "      <td>MANAGEMENT</td>\n",
              "      <td>12480</td>\n",
              "      <td>1351</td>\n",
              "      <td>7332</td>\n",
              "      <td>1486</td>\n",
              "      <td>5147</td>\n",
              "      <td>1139</td>\n",
              "    </tr>\n",
              "    <tr>\n",
              "      <th>2</th>\n",
              "      <td>Chief executives</td>\n",
              "      <td>1046</td>\n",
              "      <td>2041</td>\n",
              "      <td>763</td>\n",
              "      <td>2251</td>\n",
              "      <td>283</td>\n",
              "      <td>1836</td>\n",
              "    </tr>\n",
              "    <tr>\n",
              "      <th>3</th>\n",
              "      <td>General and operations managers</td>\n",
              "      <td>823</td>\n",
              "      <td>1260</td>\n",
              "      <td>621</td>\n",
              "      <td>1347</td>\n",
              "      <td>202</td>\n",
              "      <td>1002</td>\n",
              "    </tr>\n",
              "    <tr>\n",
              "      <th>5</th>\n",
              "      <td>Advertising and promotions managers</td>\n",
              "      <td>55</td>\n",
              "      <td>1050</td>\n",
              "      <td>29</td>\n",
              "      <td>Na</td>\n",
              "      <td>26</td>\n",
              "      <td>Na</td>\n",
              "    </tr>\n",
              "    <tr>\n",
              "      <th>6</th>\n",
              "      <td>Marketing and sales managers</td>\n",
              "      <td>948</td>\n",
              "      <td>1462</td>\n",
              "      <td>570</td>\n",
              "      <td>1603</td>\n",
              "      <td>378</td>\n",
              "      <td>1258</td>\n",
              "    </tr>\n",
              "  </tbody>\n",
              "</table>\n",
              "</div>"
            ],
            "text/plain": [
              "                            Occupation  ...  Average Female Weekly Salary\n",
              "1                           MANAGEMENT  ...                          1139\n",
              "2                     Chief executives  ...                          1836\n",
              "3      General and operations managers  ...                          1002\n",
              "5  Advertising and promotions managers  ...                            Na\n",
              "6         Marketing and sales managers  ...                          1258\n",
              "\n",
              "[5 rows x 7 columns]"
            ]
          },
          "metadata": {},
          "execution_count": 10
        }
      ]
    },
    {
      "cell_type": "markdown",
      "metadata": {
        "id": "XcnsBjtCsGoj"
      },
      "source": [
        "\n",
        "\n",
        "> What we did above is to transform the dataframe in a way that we can easily use with all of the information we need in the right format.\n",
        "\n",
        "\n",
        "> We renamed the columns for readers to better understand what the data represents. We also removed the jobs that do not have wage data because they are useless and could break our program.\n",
        "\n",
        "> More on pandas columns and row -> https://www.geeksforgeeks.org/dealing-with-rows-and-columns-in-pandas-dataframe/?ref=lbp\n",
        "\n",
        "\n",
        "\n",
        "\n",
        "\n",
        "\n",
        "\n",
        "\n",
        "\n",
        "\n",
        "\n"
      ]
    },
    {
      "cell_type": "markdown",
      "metadata": {
        "id": "VDSviYHsAqsQ"
      },
      "source": [
        "Now we have the final dataframe in a form that we can use to do further analysis with all of the columns that we need and will use in a neat and readable format. Now we can go into further analysis."
      ]
    },
    {
      "cell_type": "markdown",
      "metadata": {
        "id": "tsSH8_zGA5li"
      },
      "source": [
        "**Step 2 - exploratory data analysis**"
      ]
    },
    {
      "cell_type": "markdown",
      "source": [
        "> Here, we want to iterate through the male and female workers in the dataframe to plot them in a bar chart using matplotlib.\n",
        "\n",
        "> We go through the dataframe using a for loop and increment the Male_workers and Female_workers variables.\n",
        "\n",
        "> Learn more about Matplotlib functions ->https://www.w3schools.com/python/matplotlib_pyplot.asp\n",
        "\n",
        "\n",
        "\n",
        "\n",
        "\n"
      ],
      "metadata": {
        "id": "-hMLMdiv9MeT"
      }
    },
    {
      "cell_type": "code",
      "metadata": {
        "colab": {
          "base_uri": "https://localhost:8080/",
          "height": 281
        },
        "id": "-bBC_CyNFPza",
        "outputId": "ea7d07f5-ef2d-41ac-e5fd-4cc652b4d09c"
      },
      "source": [
        "Male_workers = 0\n",
        "Female_workers = 0\n",
        "\n",
        "#iterate to count number of male and female workers\n",
        "for i, j in data.iterrows():\n",
        "    Male_workers += int(j['Male Workers'])\n",
        "    Female_workers += int(j['Female Workers'])\n",
        "\n",
        "# create new dataframe to visualize workplace by gender\n",
        "worker_by_sex = pd.DataFrame({'Amount of workers': [Male_workers, Female_workers]}, index = [\"Male\", \"Female\"])\n",
        "ax = worker_by_sex.plot.bar(rot=0)\n",
        "\n",
        "# format bar chart\n",
        "plt.ylabel(\"Number of Workers\")\n",
        "plt.title(\"Number of People in the Workplace, by Sex\")\n",
        "plt.show()"
      ],
      "execution_count": 11,
      "outputs": [
        {
          "output_type": "display_data",
          "data": {
            "image/png": "[encoded data removed]",
            "text/plain": [
              "<Figure size 432x288 with 1 Axes>"
            ]
          },
          "metadata": {
            "needs_background": "light"
          }
        }
      ]
    },
    {
      "cell_type": "markdown",
      "metadata": {
        "id": "i9Ydu-vALstj"
      },
      "source": [
        "As we can see, there are substantially more male workers than female workers. This indicates that relative to men, women are more likely to be out of work."
      ]
    },
    {
      "cell_type": "markdown",
      "source": [
        "\n",
        "\n",
        "> Now, we re-iterate through the data to add all of the male and female salaries and male salaries to variables, keeping track of the number of jobs for each so that we can calculate the average salaries for men and women.\n",
        "\n"
      ],
      "metadata": {
        "id": "G4pGmuWw-fxj"
      }
    },
    {
      "cell_type": "code",
      "metadata": {
        "colab": {
          "base_uri": "https://localhost:8080/",
          "height": 281
        },
        "id": "4zQyZodVL4UG",
        "outputId": "467dccfa-73fe-4400-b185-8b92488319d7"
      },
      "source": [
        "Male_worker_salary = 0\n",
        "Female_worker_salary = 0\n",
        "number_of_job_types = 0\n",
        "\n",
        "# use loop to calculate sum of average male & female weekly salaries for all industries\n",
        "for i, j in data.iterrows():\n",
        "  if j['Average Male Weekly Salary'] != \"Na\" and j['Average Female Weekly Salary'] != \"Na\":\n",
        "    Male_worker_salary += int(j['Average Male Weekly Salary'])\n",
        "    Female_worker_salary += int(j['Average Female Weekly Salary'])\n",
        "    number_of_job_types += 1\n",
        "\n",
        "# divide each sum by number of job types to get the average weekly salary for all industries\n",
        "Average_Median_M = Male_worker_salary/number_of_job_types\n",
        "Average_Median_F = Female_worker_salary/number_of_job_types\n",
        "\n",
        "worker_by_sex = pd.DataFrame({'Average Median Salary': [Average_Median_M, Average_Median_F]}, index = [\"Male\", \"Female\"])\n",
        "ax = worker_by_sex.plot.bar(rot=0)\n",
        "ax.get_legend().remove()\n",
        "plt.ylabel(\"$ Salary\")\n",
        "plt.title(\"Average of Weekly Salaries for All Industries, by Sex\")\n",
        "plt.show()"
      ],
      "execution_count": 67,
      "outputs": [
        {
          "output_type": "display_data",
          "data": {
            "image/png": "[encoded data removed]",
            "text/plain": [
              "<Figure size 432x288 with 1 Axes>"
            ]
          },
          "metadata": {
            "needs_background": "light"
          }
        }
      ]
    },
    {
      "cell_type": "markdown",
      "source": [
        "Based on this bar chart, we can observe that after averaging the weekly salaries for men and women across all industries, the average weekly salary for a male is higher than that for a female. \n",
        "For men that salary is 1,018 dollars per week.\n",
        "For women it is 828 dollars per week.\n",
        "Broadly, men on average get paid more than women - and when predicting salaries for men and women, if we know nothing about an individual's line of work, it's reasonable to assume that they will earn more as a man than as a woman. "
      ],
      "metadata": {
        "id": "7_wiTJj3-z3n"
      }
    },
    {
      "cell_type": "code",
      "metadata": {
        "colab": {
          "base_uri": "https://localhost:8080/"
        },
        "id": "oPSeJNIhOEj_",
        "outputId": "7c28ab8d-8a96-422d-d407-5763b54ac449"
      },
      "source": [
        "perc = (Average_Median_M - Average_Median_F) / Average_Median_M\n",
        "print(Average_Median_M)\n",
        "print(Average_Median_F)\n",
        "print(perc)"
      ],
      "execution_count": 71,
      "outputs": [
        {
          "output_type": "stream",
          "name": "stdout",
          "text": [
            "1018.4042553191489\n",
            "828.1914893617021\n",
            "0.18677530554685048\n"
          ]
        }
      ]
    },
    {
      "cell_type": "markdown",
      "metadata": {
        "id": "3p90bLZaN-C7"
      },
      "source": [
        "Male workers' average salary across all industries is 18.67% higher than that of females"
      ]
    },
    {
      "cell_type": "code",
      "metadata": {
        "colab": {
          "base_uri": "https://localhost:8080/",
          "height": 206
        },
        "id": "XSpNdJibOTy5",
        "outputId": "3c87a8e6-91bd-49de-eae8-eb38c3f00d32"
      },
      "source": [
        "data['gender ratio'] = data['Female Workers']/data['Total Workers']\n",
        "data.head()"
      ],
      "execution_count": 15,
      "outputs": [
        {
          "output_type": "execute_result",
          "data": {
            "text/html": [
              "<div>\n",
              "<style scoped>\n",
              "    .dataframe tbody tr th:only-of-type {\n",
              "        vertical-align: middle;\n",
              "    }\n",
              "\n",
              "    .dataframe tbody tr th {\n",
              "        vertical-align: top;\n",
              "    }\n",
              "\n",
              "    .dataframe thead th {\n",
              "        text-align: right;\n",
              "    }\n",
              "</style>\n",
              "<table border=\"1\" class=\"dataframe\">\n",
              "  <thead>\n",
              "    <tr style=\"text-align: right;\">\n",
              "      <th></th>\n",
              "      <th>Occupation</th>\n",
              "      <th>Total Workers</th>\n",
              "      <th>Average Weekly Salary</th>\n",
              "      <th>Male Workers</th>\n",
              "      <th>Average Male Weekly Salary</th>\n",
              "      <th>Female Workers</th>\n",
              "      <th>Average Female Weekly Salary</th>\n",
              "      <th>gender ratio</th>\n",
              "    </tr>\n",
              "  </thead>\n",
              "  <tbody>\n",
              "    <tr>\n",
              "      <th>1</th>\n",
              "      <td>MANAGEMENT</td>\n",
              "      <td>12480</td>\n",
              "      <td>1351</td>\n",
              "      <td>7332</td>\n",
              "      <td>1486</td>\n",
              "      <td>5147</td>\n",
              "      <td>1139</td>\n",
              "      <td>0.412420</td>\n",
              "    </tr>\n",
              "    <tr>\n",
              "      <th>2</th>\n",
              "      <td>Chief executives</td>\n",
              "      <td>1046</td>\n",
              "      <td>2041</td>\n",
              "      <td>763</td>\n",
              "      <td>2251</td>\n",
              "      <td>283</td>\n",
              "      <td>1836</td>\n",
              "      <td>0.270554</td>\n",
              "    </tr>\n",
              "    <tr>\n",
              "      <th>3</th>\n",
              "      <td>General and operations managers</td>\n",
              "      <td>823</td>\n",
              "      <td>1260</td>\n",
              "      <td>621</td>\n",
              "      <td>1347</td>\n",
              "      <td>202</td>\n",
              "      <td>1002</td>\n",
              "      <td>0.245443</td>\n",
              "    </tr>\n",
              "    <tr>\n",
              "      <th>5</th>\n",
              "      <td>Advertising and promotions managers</td>\n",
              "      <td>55</td>\n",
              "      <td>1050</td>\n",
              "      <td>29</td>\n",
              "      <td>Na</td>\n",
              "      <td>26</td>\n",
              "      <td>Na</td>\n",
              "      <td>0.472727</td>\n",
              "    </tr>\n",
              "    <tr>\n",
              "      <th>6</th>\n",
              "      <td>Marketing and sales managers</td>\n",
              "      <td>948</td>\n",
              "      <td>1462</td>\n",
              "      <td>570</td>\n",
              "      <td>1603</td>\n",
              "      <td>378</td>\n",
              "      <td>1258</td>\n",
              "      <td>0.398734</td>\n",
              "    </tr>\n",
              "  </tbody>\n",
              "</table>\n",
              "</div>"
            ],
            "text/plain": [
              "                            Occupation  ...  gender ratio\n",
              "1                           MANAGEMENT  ...      0.412420\n",
              "2                     Chief executives  ...      0.270554\n",
              "3      General and operations managers  ...      0.245443\n",
              "5  Advertising and promotions managers  ...      0.472727\n",
              "6         Marketing and sales managers  ...      0.398734\n",
              "\n",
              "[5 rows x 8 columns]"
            ]
          },
          "metadata": {},
          "execution_count": 15
        }
      ]
    },
    {
      "cell_type": "markdown",
      "source": [
        "\n",
        "\n",
        "> We add a column in the data frame that calculates the female ratio compared to all workers for every industry.\n",
        "\n"
      ],
      "metadata": {
        "id": "aJHtgzNb_N_d"
      }
    },
    {
      "cell_type": "code",
      "metadata": {
        "colab": {
          "base_uri": "https://localhost:8080/",
          "height": 294
        },
        "id": "d8Iv5HiSPYBS",
        "outputId": "4d0b0c8a-1d24-40ac-9bcb-ad0f78317f5a"
      },
      "source": [
        "# filter out rows where salaries are 'Na', and cast all salaries to integers\n",
        "data = data[data['Average Female Weekly Salary'] != \"Na\"]\n",
        "data = data[data['Average Male Weekly Salary'] != \"Na\"]\n",
        "data['Average Female Weekly Salary'] = data['Average Female Weekly Salary'].astype(int)\n",
        "data['Average Male Weekly Salary'] = data['Average Male Weekly Salary'].astype(int)\n",
        "\n",
        "# use the gender ratio column to create a linear regression that predicts gender ratio\n",
        "# given an average weekly salary.\n",
        "\n",
        "l = data['gender ratio']\n",
        "y = np.reshape(list(data['Average Weekly Salary']),(-1,1))\n",
        "\n",
        "model = LinearRegression()\n",
        "model.fit(y,l)\n",
        "\n",
        "# format the plot, adding data points and labels. \n",
        "\n",
        "plt.plot(y, model.predict(y), color='red')\n",
        "\n",
        "plt.scatter(x=data['Average Weekly Salary'],y=data['gender ratio'])\n",
        "\n",
        "plt.xlabel(\"$ Average Weekly Salary\")\n",
        "\n",
        "plt.ylabel(\"Gender Ratio\")\n",
        "\n",
        "plt.title(\"Gender Ratio Against Increasing Average Salary\")\n",
        "\n",
        "plt.show()\n"
      ],
      "execution_count": 72,
      "outputs": [
        {
          "output_type": "display_data",
          "data": {
            "image/png": "[encoded data removed]",
            "text/plain": [
              "<Figure size 432x288 with 1 Axes>"
            ]
          },
          "metadata": {
            "needs_background": "light"
          }
        }
      ]
    },
    {
      "cell_type": "markdown",
      "metadata": {
        "id": "UTKa-UbwkNuP"
      },
      "source": [
        "\n",
        "\n",
        "\n",
        "> We remove the data entries that have no record or female/male specific data entries\n",
        "\n",
        "\n",
        "> We plotted the female in workplace ratio against the increase of salary, we see that there is a general trend that as salary increases, the ratio of females in that field earning that salary decreases.\n",
        "\n",
        " >We can also see that a few of highest paying careers, the female to overall workplace ratio is usually all under .4, meaning that for the highest paying fields, women's proportion is actually lower.\n",
        "\n",
        "> We also fitted a linear regression using LinearRegression and fitted a line of best fit using the two variables.\n",
        "\n",
        "> To look at the specific syntax ->https://www.w3schools.com/python/python_ml_linear_regression.asp\n",
        "\n",
        "\n",
        "> We simply plotted the scatterplot using matplotlib\n",
        "\n",
        "\n",
        "\n",
        "\n",
        "\n",
        "\n",
        "\n"
      ]
    },
    {
      "cell_type": "code",
      "metadata": {
        "colab": {
          "base_uri": "https://localhost:8080/",
          "height": 294
        },
        "id": "tr8WkTfXmPm2",
        "outputId": "2a6ed406-c3d2-4ac5-89aa-042e0c83e63b"
      },
      "source": [
        "# filter rows in the data frame where average weekly salary is greater than $1000\n",
        "\n",
        "data_high_paid = data[data['Average Weekly Salary'] > 1000]\n",
        "\n",
        "# use the gender ratio column in our new data frame to create a linear regression\n",
        "# that predicts gender ratio given an average weekly salary, where all average weekly\n",
        "# salaries are greater than $1000.\n",
        "\n",
        "l = data_high_paid['gender ratio']\n",
        "y = np.reshape(list(data_high_paid['Average Weekly Salary']),(-1,1))\n",
        "\n",
        "\n",
        "model = LinearRegression()\n",
        "model.fit(y,l)\n",
        "\n",
        "# format the plot, adding data points and labels. \n",
        "\n",
        "plt.plot(y, model.predict(y), color='red')\n",
        "\n",
        "plt.scatter(x=data_high_paid['Average Weekly Salary'],y=data_high_paid['gender ratio'])\n",
        "\n",
        "plt.xlabel(\"Average Weekly Salary\")\n",
        "\n",
        "plt.ylabel(\"Gender Ratio\")\n",
        "\n",
        "plt.title(\"Salary by Gender Ratio Among High Paid Jobs\")\n",
        "\n",
        "plt.show()"
      ],
      "execution_count": 73,
      "outputs": [
        {
          "output_type": "display_data",
          "data": {
            "image/png": "[encoded data removed]",
            "text/plain": [
              "<Figure size 432x288 with 1 Axes>"
            ]
          },
          "metadata": {
            "needs_background": "light"
          }
        }
      ]
    },
    {
      "cell_type": "markdown",
      "metadata": {
        "id": "Ym_dAVZenZK2"
      },
      "source": [
        "\n",
        "\n",
        "> We now repeat what we previously did, but narrowing our data points to draw from only the highest paying careers\n",
        "\n",
        "\n",
        "> For the highest paying jobs, the gender ratio declines at a faster rate. In other words, the coefficient for our linear regression is more negative than in the last regression. We can conclude from this that the disadvantage women experience, in terms of employment, is more prominent in careers with higher average weekly salaries. \n",
        "\n"
      ]
    },
    {
      "cell_type": "code",
      "source": [
        "data_managers = data\n",
        "\n",
        "# search for managerial roles within our broader dataset of all occupations.\n",
        "for i, j in data_managers.iterrows():\n",
        "  if \"manager\" not in j['Occupation'] :\n",
        "    data_managers = data_managers.drop(i)\n",
        "  \n",
        "# reformat our new data frame to incorporate male and female managers, and\n",
        "# their weekly salaries.\n",
        "l = data_managers['Female Workers']\n",
        "y = np.reshape(list(data_managers['Average Female Weekly Salary']),(-1,1))\n",
        "\n",
        "l2 = data_managers['Male Workers']\n",
        "y2 = np.reshape(list(data_managers['Average Male Weekly Salary']),(-1,1))\n",
        "\n",
        "# format the plot, adding data points and labels. \n",
        "\n",
        "fig, ax = plt.subplots()\n",
        "index = np.arange(13)\n",
        "female = ax.bar(index, data_managers['Average Female Weekly Salary'], .35, color='purple')\n",
        "male = ax.bar(index + .35, data_managers['Average Male Weekly Salary'], .35, color='red')\n",
        "\n",
        "ax.set_xticks(index + .35/2)\n",
        "ax.set_xticklabels(data_managers['Occupation'])\n",
        "ax.set_ylabel('$ Average Weekly Salary')\n",
        "ax.set_title('Male vs. Female Salaries in Managerial Roles')\n",
        "\n",
        "plt.setp(ax.get_xticklabels(), rotation=30, horizontalalignment='right')\n",
        "plt.legend(['Female', 'Male'])\n",
        "\n",
        "plt.show()"
      ],
      "metadata": {
        "colab": {
          "base_uri": "https://localhost:8080/",
          "height": 428
        },
        "id": "ufRAOdQVDW-T",
        "outputId": "2cf37b9c-93a9-4182-ba0c-b46e6bc85a3f"
      },
      "execution_count": 113,
      "outputs": [
        {
          "output_type": "display_data",
          "data": {
            "image/png": "[encoded data removed]",
            "text/plain": [
              "<Figure size 432x288 with 1 Axes>"
            ]
          },
          "metadata": {
            "needs_background": "light"
          }
        }
      ]
    },
    {
      "cell_type": "markdown",
      "source": [
        "> We go through the dataframe row by row, but only look at the data that represent management related jobs.\n",
        "\n",
        "> We visualize the differences in Average Weekly Salary for Men and Women by \n",
        "industry, and see that there is a clear salary gap for all management related \n",
        "jobs in our dataset. \n"
      ],
      "metadata": {
        "id": "BwTKT6-xLL_e"
      }
    },
    {
      "cell_type": "code",
      "metadata": {
        "colab": {
          "base_uri": "https://localhost:8080/",
          "height": 294
        },
        "id": "HRkT4iKtluEr",
        "outputId": "8bd5c2d2-7039-4457-c934-11682d811a74"
      },
      "source": [
        "# create a 'wage difference' field by subtracting average female weekly salary from\n",
        "# average male weekly salary. \n",
        "\n",
        "data['wage_difference'] = data['Average Male Weekly Salary'] - data['Average Female Weekly Salary']\n",
        "\n",
        "l = data['wage_difference']\n",
        "y = np.reshape(list(data['Average Weekly Salary']),(-1,1))\n",
        "\n",
        "# create a linear regression to predict the gap between the average male weekly salary and\n",
        "# average female weekly salary given the average weekly salary of an industry. \n",
        "\n",
        "model = LinearRegression()\n",
        "model.fit(y,l)\n",
        "\n",
        "# format the plot, adding data points and labels. \n",
        "\n",
        "plt.plot(y, model.predict(y), color='red')\n",
        "\n",
        "plt.scatter(x=data['Average Weekly Salary'],y=data['wage_difference'], color = 'grey')\n",
        "\n",
        "plt.xlabel(\"Average Salary\")\n",
        "\n",
        "plt.ylabel(\"Average Wage Gap (Men - Women)\")\n",
        "\n",
        "plt.title(\"Male/Female Wage Gap\")\n",
        "\n",
        "plt.show()"
      ],
      "execution_count": 31,
      "outputs": [
        {
          "output_type": "display_data",
          "data": {
            "image/png": "[encoded data removed]",
            "text/plain": [
              "<Figure size 432x288 with 1 Axes>"
            ]
          },
          "metadata": {
            "needs_background": "light"
          }
        }
      ]
    },
    {
      "cell_type": "markdown",
      "source": [
        "\n",
        "\n",
        "> Lastly, We create a new column called wage difference, that is the difference in wages for every industry between men and women.\n",
        "\n",
        "> We graph the wage difference against the salary increase and created a line of best fit\n",
        "\n",
        "> We see that as an industry pays more, the men in that specific fields get paid more compared to the corresponding female workers\n",
        "\n",
        "\n",
        "\n",
        "\n",
        "\n"
      ],
      "metadata": {
        "id": "6KL1BSD_DXMx"
      }
    },
    {
      "cell_type": "markdown",
      "metadata": {
        "id": "NhyhIBIyrw_w"
      },
      "source": [
        "Therefore, we can conclude workers' wages increase, the difference between men and women in that specific field also increases drastically"
      ]
    },
    {
      "cell_type": "markdown",
      "metadata": {
        "id": "CHXQ6mB4skXr"
      },
      "source": [
        "**Step 3 - hypothesis testing and machine learning**"
      ]
    },
    {
      "cell_type": "markdown",
      "metadata": {
        "id": "t4xJJyG0bNeF"
      },
      "source": [
        "It is clear from our data analysis that when the average salary of an industry increases, the ratio of the women workers for that industry decreases, and the wage gap between men and women increases"
      ]
    },
    {
      "cell_type": "markdown",
      "metadata": {
        "id": "88q_2gSce4_V"
      },
      "source": [
        "> we revisit the analyses we have done and refine the models\n",
        "\n",
        "> We will use hyphothesis testing to see if the relationship we observed is significant\n",
        "\n",
        "> If you want to learn more about Hypothesis testing ->https://www.statisticshowto.com/probability-and-statistics/hypothesis-testing/\n",
        "\n",
        "\n",
        "> We use OLS to obtain the regression result for the model we get\n",
        "\n",
        "\n",
        "> For OLS syntax -> https://www.statsmodels.org/dev/generated/statsmodels.regression.linear_model.OLS.html\n",
        "\n",
        "\n",
        "\n",
        "\n",
        "\n",
        "\n",
        "\n"
      ]
    },
    {
      "cell_type": "code",
      "metadata": {
        "colab": {
          "base_uri": "https://localhost:8080/",
          "height": 468
        },
        "id": "j0rEJ95mi0ES",
        "outputId": "511da17e-a38e-4dc8-eccf-a9c9195e485b"
      },
      "source": [
        "from statsmodels.formula.api import ols\n",
        "x = data['Average Weekly Salary']\n",
        "y = data['gender ratio']\n",
        "\n",
        "# use statsmodels to run Ordinary Least Squares\n",
        "reg= ols('y~x', data=data).fit()\n",
        "\n",
        "reg.summary()"
      ],
      "execution_count": 53,
      "outputs": [
        {
          "output_type": "execute_result",
          "data": {
            "text/html": [
              "<table class=\"simpletable\">\n",
              "<caption>OLS Regression Results</caption>\n",
              "<tr>\n",
              "  <th>Dep. Variable:</th>            <td>y</td>        <th>  R-squared:         </th> <td>   0.038</td>\n",
              "</tr>\n",
              "<tr>\n",
              "  <th>Model:</th>                   <td>OLS</td>       <th>  Adj. R-squared:    </th> <td>   0.032</td>\n",
              "</tr>\n",
              "<tr>\n",
              "  <th>Method:</th>             <td>Least Squares</td>  <th>  F-statistic:       </th> <td>   5.559</td>\n",
              "</tr>\n",
              "<tr>\n",
              "  <th>Date:</th>             <td>Thu, 09 Dec 2021</td> <th>  Prob (F-statistic):</th>  <td>0.0198</td> \n",
              "</tr>\n",
              "<tr>\n",
              "  <th>Time:</th>                 <td>19:40:05</td>     <th>  Log-Likelihood:    </th> <td>  22.554</td>\n",
              "</tr>\n",
              "<tr>\n",
              "  <th>No. Observations:</th>      <td>   141</td>      <th>  AIC:               </th> <td>  -41.11</td>\n",
              "</tr>\n",
              "<tr>\n",
              "  <th>Df Residuals:</th>          <td>   139</td>      <th>  BIC:               </th> <td>  -35.21</td>\n",
              "</tr>\n",
              "<tr>\n",
              "  <th>Df Model:</th>              <td>     1</td>      <th>                     </th>     <td> </td>   \n",
              "</tr>\n",
              "<tr>\n",
              "  <th>Covariance Type:</th>      <td>nonrobust</td>    <th>                     </th>     <td> </td>   \n",
              "</tr>\n",
              "</table>\n",
              "<table class=\"simpletable\">\n",
              "<tr>\n",
              "      <td></td>         <th>coef</th>     <th>std err</th>      <th>t</th>      <th>P>|t|</th>  <th>[0.025</th>    <th>0.975]</th>  \n",
              "</tr>\n",
              "<tr>\n",
              "  <th>Intercept</th> <td>    0.5793</td> <td>    0.047</td> <td>   12.295</td> <td> 0.000</td> <td>    0.486</td> <td>    0.672</td>\n",
              "</tr>\n",
              "<tr>\n",
              "  <th>x</th>         <td>   -0.0001</td> <td> 4.75e-05</td> <td>   -2.358</td> <td> 0.020</td> <td>   -0.000</td> <td>-1.81e-05</td>\n",
              "</tr>\n",
              "</table>\n",
              "<table class=\"simpletable\">\n",
              "<tr>\n",
              "  <th>Omnibus:</th>       <td> 3.163</td> <th>  Durbin-Watson:     </th> <td>   1.129</td>\n",
              "</tr>\n",
              "<tr>\n",
              "  <th>Prob(Omnibus):</th> <td> 0.206</td> <th>  Jarque-Bera (JB):  </th> <td>   2.091</td>\n",
              "</tr>\n",
              "<tr>\n",
              "  <th>Skew:</th>          <td>-0.073</td> <th>  Prob(JB):          </th> <td>   0.352</td>\n",
              "</tr>\n",
              "<tr>\n",
              "  <th>Kurtosis:</th>      <td> 2.421</td> <th>  Cond. No.          </th> <td>2.67e+03</td>\n",
              "</tr>\n",
              "</table><br/><br/>Warnings:<br/>[1] Standard Errors assume that the covariance matrix of the errors is correctly specified.<br/>[2] The condition number is large, 2.67e+03. This might indicate that there are<br/>strong multicollinearity or other numerical problems."
            ],
            "text/plain": [
              "<class 'statsmodels.iolib.summary.Summary'>\n",
              "\"\"\"\n",
              "                            OLS Regression Results                            \n",
              "==============================================================================\n",
              "Dep. Variable:                      y   R-squared:                       0.038\n",
              "Model:                            OLS   Adj. R-squared:                  0.032\n",
              "Method:                 Least Squares   F-statistic:                     5.559\n",
              "Date:                Thu, 09 Dec 2021   Prob (F-statistic):             0.0198\n",
              "Time:                        19:40:05   Log-Likelihood:                 22.554\n",
              "No. Observations:                 141   AIC:                            -41.11\n",
              "Df Residuals:                     139   BIC:                            -35.21\n",
              "Df Model:                           1                                         \n",
              "Covariance Type:            nonrobust                                         \n",
              "==============================================================================\n",
              "                 coef    std err          t      P>|t|      [0.025      0.975]\n",
              "------------------------------------------------------------------------------\n",
              "Intercept      0.5793      0.047     12.295      0.000       0.486       0.672\n",
              "x             -0.0001   4.75e-05     -2.358      0.020      -0.000   -1.81e-05\n",
              "==============================================================================\n",
              "Omnibus:                        3.163   Durbin-Watson:                   1.129\n",
              "Prob(Omnibus):                  0.206   Jarque-Bera (JB):                2.091\n",
              "Skew:                          -0.073   Prob(JB):                        0.352\n",
              "Kurtosis:                       2.421   Cond. No.                     2.67e+03\n",
              "==============================================================================\n",
              "\n",
              "Warnings:\n",
              "[1] Standard Errors assume that the covariance matrix of the errors is correctly specified.\n",
              "[2] The condition number is large, 2.67e+03. This might indicate that there are\n",
              "strong multicollinearity or other numerical problems.\n",
              "\"\"\""
            ]
          },
          "metadata": {},
          "execution_count": 53
        }
      ]
    },
    {
      "cell_type": "markdown",
      "metadata": {
        "id": "sAvVmnXajKaz"
      },
      "source": [
        "From the linear regression model we obtained from salary vs gender ratio we can see that as salary increases the female gender in workplace decreases by 0.01%"
      ]
    },
    {
      "cell_type": "markdown",
      "metadata": {
        "id": "YwMmksM2jXXV"
      },
      "source": [
        "We try to find an another model to better fit our prediction so we are looking at gender gap instead since the p value is high being 0.02 considering if we use 1% level of significance."
      ]
    },
    {
      "cell_type": "code",
      "metadata": {
        "colab": {
          "base_uri": "https://localhost:8080/",
          "height": 746
        },
        "id": "FOckebwbaKe1",
        "outputId": "47df3b66-145f-402a-ab53-23a841241f7d"
      },
      "source": [
        "from statsmodels.formula.api import ols\n",
        "import statsmodels.api as sm\n",
        "\n",
        "# plot the wage difference using the field we created earlier\n",
        "plt.scatter(x=data['Average Weekly Salary'],y=data['wage_difference'], color = 'green')\n",
        "\n",
        "plt.xlabel(\"Average Industry Salary\")\n",
        "\n",
        "plt.ylabel(\"Average Wage Gap of Men over Women\")\n",
        "\n",
        "plt.title(\"Gender Gap as salary increases\")\n",
        "\n",
        "Ave_sal = data['Average Weekly Salary']\n",
        "gap = data['wage_difference']\n",
        "\n",
        "# create a linear regression to predict the rate of increase of the wage gap\n",
        "# based on increasing average weekly salary.\n",
        "\n",
        "l = data['wage_difference']\n",
        "y = np.reshape(list(data['Average Weekly Salary']),(-1,1))\n",
        "model = LinearRegression()\n",
        "model.fit(y,l)\n",
        "\n",
        "# again, we use statsmodels to run an Ordinary Least Squares\n",
        "regression = ols('gap~Ave_sal', data=data).fit()\n",
        "\n",
        "regression.summary()\n",
        "\n"
      ],
      "execution_count": 65,
      "outputs": [
        {
          "output_type": "execute_result",
          "data": {
            "text/html": [
              "<table class=\"simpletable\">\n",
              "<caption>OLS Regression Results</caption>\n",
              "<tr>\n",
              "  <th>Dep. Variable:</th>           <td>gap</td>       <th>  R-squared:         </th> <td>   0.354</td>\n",
              "</tr>\n",
              "<tr>\n",
              "  <th>Model:</th>                   <td>OLS</td>       <th>  Adj. R-squared:    </th> <td>   0.349</td>\n",
              "</tr>\n",
              "<tr>\n",
              "  <th>Method:</th>             <td>Least Squares</td>  <th>  F-statistic:       </th> <td>   76.15</td>\n",
              "</tr>\n",
              "<tr>\n",
              "  <th>Date:</th>             <td>Thu, 09 Dec 2021</td> <th>  Prob (F-statistic):</th> <td>7.31e-15</td>\n",
              "</tr>\n",
              "<tr>\n",
              "  <th>Time:</th>                 <td>19:46:35</td>     <th>  Log-Likelihood:    </th> <td> -874.90</td>\n",
              "</tr>\n",
              "<tr>\n",
              "  <th>No. Observations:</th>      <td>   141</td>      <th>  AIC:               </th> <td>   1754.</td>\n",
              "</tr>\n",
              "<tr>\n",
              "  <th>Df Residuals:</th>          <td>   139</td>      <th>  BIC:               </th> <td>   1760.</td>\n",
              "</tr>\n",
              "<tr>\n",
              "  <th>Df Model:</th>              <td>     1</td>      <th>                     </th>     <td> </td>   \n",
              "</tr>\n",
              "<tr>\n",
              "  <th>Covariance Type:</th>      <td>nonrobust</td>    <th>                     </th>     <td> </td>   \n",
              "</tr>\n",
              "</table>\n",
              "<table class=\"simpletable\">\n",
              "<tr>\n",
              "      <td></td>         <th>coef</th>     <th>std err</th>      <th>t</th>      <th>P>|t|</th>  <th>[0.025</th>    <th>0.975]</th>  \n",
              "</tr>\n",
              "<tr>\n",
              "  <th>Intercept</th> <td>  -31.6386</td> <td>   27.379</td> <td>   -1.156</td> <td> 0.250</td> <td>  -85.773</td> <td>   22.495</td>\n",
              "</tr>\n",
              "<tr>\n",
              "  <th>Ave_sal</th>   <td>    0.2406</td> <td>    0.028</td> <td>    8.726</td> <td> 0.000</td> <td>    0.186</td> <td>    0.295</td>\n",
              "</tr>\n",
              "</table>\n",
              "<table class=\"simpletable\">\n",
              "<tr>\n",
              "  <th>Omnibus:</th>       <td>31.912</td> <th>  Durbin-Watson:     </th> <td>   1.594</td>\n",
              "</tr>\n",
              "<tr>\n",
              "  <th>Prob(Omnibus):</th> <td> 0.000</td> <th>  Jarque-Bera (JB):  </th> <td>  59.024</td>\n",
              "</tr>\n",
              "<tr>\n",
              "  <th>Skew:</th>          <td> 1.027</td> <th>  Prob(JB):          </th> <td>1.52e-13</td>\n",
              "</tr>\n",
              "<tr>\n",
              "  <th>Kurtosis:</th>      <td> 5.414</td> <th>  Cond. No.          </th> <td>2.67e+03</td>\n",
              "</tr>\n",
              "</table><br/><br/>Warnings:<br/>[1] Standard Errors assume that the covariance matrix of the errors is correctly specified.<br/>[2] The condition number is large, 2.67e+03. This might indicate that there are<br/>strong multicollinearity or other numerical problems."
            ],
            "text/plain": [
              "<class 'statsmodels.iolib.summary.Summary'>\n",
              "\"\"\"\n",
              "                            OLS Regression Results                            \n",
              "==============================================================================\n",
              "Dep. Variable:                    gap   R-squared:                       0.354\n",
              "Model:                            OLS   Adj. R-squared:                  0.349\n",
              "Method:                 Least Squares   F-statistic:                     76.15\n",
              "Date:                Thu, 09 Dec 2021   Prob (F-statistic):           7.31e-15\n",
              "Time:                        19:46:35   Log-Likelihood:                -874.90\n",
              "No. Observations:                 141   AIC:                             1754.\n",
              "Df Residuals:                     139   BIC:                             1760.\n",
              "Df Model:                           1                                         \n",
              "Covariance Type:            nonrobust                                         \n",
              "==============================================================================\n",
              "                 coef    std err          t      P>|t|      [0.025      0.975]\n",
              "------------------------------------------------------------------------------\n",
              "Intercept    -31.6386     27.379     -1.156      0.250     -85.773      22.495\n",
              "Ave_sal        0.2406      0.028      8.726      0.000       0.186       0.295\n",
              "==============================================================================\n",
              "Omnibus:                       31.912   Durbin-Watson:                   1.594\n",
              "Prob(Omnibus):                  0.000   Jarque-Bera (JB):               59.024\n",
              "Skew:                           1.027   Prob(JB):                     1.52e-13\n",
              "Kurtosis:                       5.414   Cond. No.                     2.67e+03\n",
              "==============================================================================\n",
              "\n",
              "Warnings:\n",
              "[1] Standard Errors assume that the covariance matrix of the errors is correctly specified.\n",
              "[2] The condition number is large, 2.67e+03. This might indicate that there are\n",
              "strong multicollinearity or other numerical problems.\n",
              "\"\"\""
            ]
          },
          "metadata": {},
          "execution_count": 65
        },
        {
          "output_type": "display_data",
          "data": {
            "image/png": "[encoded data removed]",
            "text/plain": [
              "<Figure size 432x288 with 1 Axes>"
            ]
          },
          "metadata": {
            "needs_background": "light"
          }
        }
      ]
    },
    {
      "cell_type": "markdown",
      "metadata": {
        "id": "x4cQ9HV5hRYD"
      },
      "source": [
        "Tenatively, we can tell that as Average Industry Salary increases by 1 dollar, the wage gap between Men and Women increases by 24 cents."
      ]
    },
    {
      "cell_type": "code",
      "metadata": {
        "colab": {
          "base_uri": "https://localhost:8080/"
        },
        "id": "U2CczPRLhS9Y",
        "outputId": "d034a790-f923-4f7f-8580-16efc620eb7e"
      },
      "source": [
        "model.coef_"
      ],
      "execution_count": 63,
      "outputs": [
        {
          "output_type": "execute_result",
          "data": {
            "text/plain": [
              "array([0.24064747])"
            ]
          },
          "metadata": {},
          "execution_count": 63
        }
      ]
    },
    {
      "cell_type": "markdown",
      "metadata": {
        "id": "DkZ_RsO6k-5C"
      },
      "source": [
        "We see now the p-value dropped to 0, and this model better represents how the salary in an industry changes the wage gap between men and women"
      ]
    },
    {
      "cell_type": "markdown",
      "metadata": {
        "id": "JVAqxt6_lnug"
      },
      "source": [
        "Our hypothesis is that as salary increases, the gender gap increases.\n",
        "\n",
        "\n",
        "> H0 : b = 0 (that Average salary is not a signifiant indicator for explaining the wage difference)\n",
        "\n",
        "\n",
        "> H1 : b != 0 (that Average salary is a signifiant indicator for explaining the wage difference)\n",
        "\n",
        "\n",
        "> p < 0.01 as we can see the chart. we reject H0, so we conclude that salary is a significant predictor at explaining the variation of gender gap.\n",
        "\n",
        "> At the end, we get the conclusion from the model that as salary increases by one dollar, the wage gap increases by 0.24064747 dollar\n",
        "\n",
        "\n",
        "\n",
        "\n",
        "\n",
        "\n",
        "\n",
        "\n",
        "\n"
      ]
    },
    {
      "cell_type": "markdown",
      "source": [
        "**Summary**\n",
        "\n",
        "In this tutorial, we took a streamlined approach to draw conclusions about wage differences between genders from a CSV dataset, using a variety of techniques to summarize, visualize, and extrapolate predictions from data. Specifically, we began by curating and parsing our data. To do so, we used pandas to create a data frame from the intial Kaggle CSV file of average weekly salaries for men and women in different fields. After creating this data frame, we cleansed the data by removing items without relevant information (such as missing salary).\n",
        "\n",
        "After this, we were able to use our data frame to create several plots with the matplotlib extension. We created visualizations of many data comparisons, including the number of employed men vs. women, the average weekly salaries among all industries, gender ratio across all jobs and within the highest paid fields, wage differences within managerial roles, and the broad wage gap between genders. This also led to insights such as the percentage difference for average weekly salary between men and women (18.67%) and a linear regression for the growing wage gap as salary increases. \n",
        "\n",
        "Lastly, we ran hypothesis testing to clarify the results of our exploratory data analysis. When doing this, we were able to observe changes in p-values and verify accuracy for our models. For example, we were able to conlcude - with a one percent level of significance - that as a job's average weekly salary increases by one dollar, the wage gap between the expected salary of a man and a woman increases by 24 cents. \n",
        "\n",
        "By following these steps; curating and parsing data, performing exploratory data analysis, and running hypothesis testing, we made meaningful findings. We  determined that the wage gap between average weekly salaries for men and women is present and pervasive, especially in higher paid fields. Across all of the industries in our dataset, the average weekly salary for men is 1,018 dollars, and for women it is 828 dollars. This amounts to a difference of over 18 percent, and implies that when predicting weekly salary for any given man or woman (without any information about that person's occupation), we can only assume that a woman working the same role as a man will make 18% less in any of these industries. Surely, there are confounding variables when we consider outliers for some industries and some high paid roles, but these do not detract from the significant difference when we observe averages, and hardly counteract what is a wide gender wage gap. \n",
        "\n",
        "Furthermore, we discovered that within managerial roles, the gender wage gap is consistent with what we found from the broader average among all industries. The wage gap in average weekly salary is consistently 15-20% for every role containing 'manager' in its title, and there are no managerial roles where the average weekly salary for women is higher than that for men. We found that there is a distinctive relationship between average weekly salary and gender ratio; as average weekly salary for a given role increases, the gender ratio decreases from about 50:50 to under 60:40, and the rate of decrease is more steep when confining the data to roles with a minimum average weekly salary of 1000 dollars. Additionally, this relationship exists between average weekly salary and wage gap: as weekly salary increases, the difference between salary for men and women also increases. In addition to what implications we already mentioned, our data-based findings warn of gender wage differences that are deeply ingrained in a large majority of the industries that were surveyed in this Kaggle dataset.  \n",
        "\n",
        "\n",
        "In this tutorial, we learned how to:\n",
        "\n",
        "*   Create and manipulate dataframes using Pandas\n",
        "*   Add, modify, and remove columns and rows in dataframes\n",
        "*   Filter data to focus on different subsets\n",
        "*   Iterate through dataframes to create plots with matplotlib\n",
        "*   Create and format different types of plots\n",
        "*   Build a linear regression model\n",
        "*   Interpret predicitons from linear regression\n",
        "*   Use Ordinary Least Squares to measure accuracy of models and fit predictions"
      ],
      "metadata": {
        "id": "fxqEkXHIMNrQ"
      }
    }
  ]
}